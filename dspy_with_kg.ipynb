{
 "cells": [
  {
   "cell_type": "code",
   "execution_count": null,
   "id": "22120951-8427-4bf4-b2d6-691c9712ccec",
   "metadata": {},
   "outputs": [],
   "source": [
    "!pip install dspy-ai\n",
    "!pip install -r dspy-requirements-2.txt\n",
    "!pip install -U dspy-ai"
   ]
  },
  {
   "cell_type": "markdown",
   "id": "d739c01f-7c4e-460e-8be5-a000b2c997df",
   "metadata": {},
   "source": [
    "# Environment Setup"
   ]
  },
  {
   "cell_type": "code",
   "execution_count": 1,
   "id": "b3f07590-b09a-4411-b01c-30a65305619b",
   "metadata": {},
   "outputs": [],
   "source": [
    "import dspy\n",
    "from dspy.retrieve.chromadb_rm import ChromadbRM\n",
    "import json\n",
    "from langchain.chains import GraphCypherQAChain\n",
    "from langchain_community.graphs import Neo4jGraph\n",
    "from langchain_openai import ChatOpenAI, OpenAIEmbeddings\n",
    "import os\n",
    "\n",
    "os.environ[\"OPENAI_API_KEY\"] = 'open-api-key'"
   ]
  },
  {
   "cell_type": "markdown",
   "id": "7c81e150-8a40-42a9-bbec-57228b6a48a2",
   "metadata": {},
   "source": [
    "# Elon Musk's Wikipedia Page as Our Knowledge Source"
   ]
  },
  {
   "cell_type": "code",
   "execution_count": null,
   "id": "fc09bba3-fe76-4a42-80ad-bd41195e4fd5",
   "metadata": {},
   "outputs": [],
   "source": [
    "from langchain_community.document_loaders import WikipediaLoader\n",
    "\n",
    "query = \"Elon Musk\"\n",
    "raw_documents = WikipediaLoader(query=query).load()"
   ]
  },
  {
   "cell_type": "markdown",
   "id": "59ab852b-305f-4958-a86a-3cda391a3f2f",
   "metadata": {},
   "source": [
    "Embed our text data in chromadb vector database"
   ]
  },
  {
   "cell_type": "code",
   "execution_count": 5,
   "id": "39618be9-74bd-4e8c-8766-e582617e0a12",
   "metadata": {},
   "outputs": [],
   "source": [
    "from langchain.text_splitter import RecursiveCharacterTextSplitter\n",
    "from langchain_community.vectorstores import Chroma\n",
    "from langchain_openai import OpenAIEmbeddings\n",
    "\n",
    "# Split\n",
    "text_splitter = RecursiveCharacterTextSplitter.from_tiktoken_encoder(\n",
    "    chunk_size=512, chunk_overlap=100\n",
    ")\n",
    "all_splits = text_splitter.split_documents(raw_documents)\n",
    "\n",
    "import chromadb.utils.embedding_functions as embedding_functions\n",
    "embeddings = OpenAIEmbeddings(model=\"text-embedding-ada-002\")\n",
    "\n",
    "CHROMA_COLLECTION_NAME = \"dspy-rag-chroma\"\n",
    "CHROMADB_DIR = \"dspy_rag_chroma/\"\n",
    "\n",
    "# Index\n",
    "vectorstore = Chroma.from_documents(\n",
    "    documents=all_splits,\n",
    "    collection_name=CHROMA_COLLECTION_NAME,\n",
    "    embedding=embeddings,\n",
    "    persist_directory=CHROMADB_DIR\n",
    ")\n",
    "retriever = vectorstore.as_retriever()"
   ]
  },
  {
   "cell_type": "code",
   "execution_count": 31,
   "id": "b55641b8-e4ba-4d7d-9985-7eac6ea8f418",
   "metadata": {},
   "outputs": [],
   "source": [
    "import chromadb\n",
    "from chromadb.utils.embedding_functions import OpenAIEmbeddingFunction\n",
    "from dspy.retrieve.chromadb_rm import ChromadbRM\n",
    "import os\n",
    "\n",
    "embedding_function = OpenAIEmbeddingFunction(\n",
    "    api_key=os.environ.get('OPENAI_API_KEY'),\n",
    "    model_name=\"text-embedding-ada-002\"\n",
    ")\n",
    "\n",
    "rm = ChromadbRM(CHROMA_COLLECTION_NAME, CHROMADB_DIR, embedding_function, k=3)"
   ]
  },
  {
   "cell_type": "markdown",
   "id": "8281f98a-ba08-4c61-9837-e1b764c7195d",
   "metadata": {},
   "source": [
    "# Build Knowlegde Graph of Elon Musk with Diffbot's Natural Language API"
   ]
  },
  {
   "cell_type": "code",
   "execution_count": 43,
   "id": "59a33a80-17a5-4681-8843-e416d818e770",
   "metadata": {},
   "outputs": [],
   "source": [
    "# DiffbotGraphTransformer calls Diffbot Natural Language API to extract entities and relationships in the article\n",
    "from langchain_experimental.graph_transformers.diffbot import DiffbotGraphTransformer\n",
    "import os\n",
    "\n",
    "diffbot_api_key = \"Diffbot-token\" \n",
    "\n",
    "diffbot_nlp = DiffbotGraphTransformer(diffbot_api_key=diffbot_api_key)\n",
    "\n",
    "# Diffbot's Natural Language API converts unstructured text data into knowlegde graphs\n",
    "graph_documents = diffbot_nlp.convert_to_graph_documents(raw_documents)\n",
    "\n",
    "# add knowledge graph data to the neo4j database\n",
    "graph.add_graph_documents(graph_documents)"
   ]
  },
  {
   "cell_type": "code",
   "execution_count": 10,
   "id": "1df2cc1b-2b7f-4bf0-b89a-490f4f168275",
   "metadata": {},
   "outputs": [],
   "source": [
    "# connect to our neo4j database\n",
    "from langchain_community.graphs import Neo4jGraph\n",
    "\n",
    "url = \"url\"\n",
    "username = \"neo4j\"\n",
    "password = \"pwd\"\n",
    "\n",
    "graph = Neo4jGraph(url=url, username=username, password=password)"
   ]
  },
  {
   "cell_type": "markdown",
   "id": "e52d1e1b-3898-4e39-8cbe-1cb0a821d17f",
   "metadata": {},
   "source": [
    "# Vanilla DSPy RAG Pipeline"
   ]
  },
  {
   "cell_type": "code",
   "execution_count": 84,
   "id": "99c30f09-f3bc-4bbc-aa89-ab004b9b7aff",
   "metadata": {},
   "outputs": [],
   "source": [
    "class GenerateAnswer(dspy.Signature):\n",
    "    \"\"\"Answer questions with short factoid answers.\"\"\"\n",
    "\n",
    "    context = dspy.InputField(desc=\"may contain relevant facts\")\n",
    "    question = dspy.InputField()\n",
    "    answer = dspy.OutputField(desc=\"often between 1 and 5 words\")\n",
    "\n",
    "vanilla_dspy_rag_lm = dspy.OpenAI(model='gpt-3.5-turbo-instruct')\n",
    "dspy.settings.configure(lm=vanilla_dspy_rag_lm, rm=rm)\n",
    "\n",
    "class vanilla_dspy_rag(dspy.Module):\n",
    "    \n",
    "    # we set num_passages=1 to avoid the same passage being repeatedly retrieved for multiple times\n",
    "    def __init__(self, num_passages=1):\n",
    "        super().__init__()\n",
    "\n",
    "        self.retrieve = dspy.Retrieve(k=num_passages)\n",
    "        self.generate_answer = dspy.ChainOfThought(GenerateAnswer)\n",
    "    \n",
    "    def forward(self, question):\n",
    "        context = self.retrieve(question).passages\n",
    "        prediction = self.generate_answer(context=context, question=question)\n",
    "        return dspy.Prediction(context=context, answer=prediction.answer)"
   ]
  },
  {
   "cell_type": "markdown",
   "id": "7a2ad833-e51b-44af-8f0e-3b4a23db79cd",
   "metadata": {},
   "source": [
    "# initial_context_from_knowledge_graph : fetch structured and grounded facts in knowlegde graph"
   ]
  },
  {
   "cell_type": "code",
   "execution_count": 12,
   "id": "e3a2ce20-e3c5-4b42-b426-16d4f4ccbc6b",
   "metadata": {},
   "outputs": [],
   "source": [
    "# function to query neo4j graph database\n",
    "\n",
    "initial_context_from_knowledge_graph = GraphCypherQAChain.from_llm(\n",
    "    ChatOpenAI(model=\"gpt-3.5-turbo-instruct\", temperature=0), graph=graph, verbose=True\n",
    ")"
   ]
  },
  {
   "cell_type": "markdown",
   "id": "4032bc20-643f-4063-be0c-ce456da73437",
   "metadata": {},
   "source": [
    "# Complete Pipeline of DSPy RAG with Knowledge Graph"
   ]
  },
  {
   "cell_type": "code",
   "execution_count": 95,
   "id": "725fa0f1-df50-4da6-8d22-cbdaa1f1d423",
   "metadata": {},
   "outputs": [],
   "source": [
    "# Set up the LM\n",
    "lm = dspy.OpenAI(model='gpt-3.5-turbo-instruct')\n",
    "dspy.settings.configure(lm=lm, rm=rm)\n",
    "\n",
    "class EnrichQueryWithKG(dspy.Signature):\n",
    "    \"\"\"Refines and enriches questions using knowledge graph context.\"\"\"\n",
    "    question = dspy.InputField()\n",
    "    kg_context = dspy.InputField(type=str, desc=\"Knowledge graph metadata\") #changed from dict to str\n",
    "    enriched_query = dspy.OutputField(desc=\"Query enriched with KG context\")\n",
    "\n",
    "class EnhanceContextWithKG(dspy.Signature):\n",
    "    \"\"\"Consolidates and summarizes information from enriched queries and passages.\"\"\"\n",
    "    query = dspy.InputField()\n",
    "    passages = dspy.InputField(desc=\"Passages retrieved based on the enriched query\")\n",
    "    enhanced_context = dspy.OutputField(desc=\"Context enhanced with KG data\")\n",
    "\n",
    "class KGEnrichedQueryModule(dspy.Module):\n",
    "    def __init__(self, temperature: int = 0):\n",
    "        super().__init__()\n",
    "        self.temperature = temperature\n",
    "        self.enrich_query_module = dspy.ChainOfThought(EnrichQueryWithKG)\n",
    "        self.enhance_context_module = dspy.ChainOfThought(EnhanceContextWithKG)\n",
    "        self.retrieve = rm\n",
    "\n",
    "    def forward(self, question: str, kg_context: str) -> str: #change from dict to str\n",
    "        enriched_query = self.enrich_query_module(question=question, kg_context=kg_context).enriched_query\n",
    "        passages = self.retrieve(enriched_query)\n",
    "        final_answer = self.enhance_context_module(query=enriched_query, passages=passages).enhanced_context\n",
    "        return final_answer\n"
   ]
  },
  {
   "cell_type": "markdown",
   "id": "82c7e6e0-dc85-43ef-8b1c-7f1323798c04",
   "metadata": {},
   "source": [
    "# Question 1 : What industry or industries is Neuralink in?\n",
    "# A. Vanilla DSPy RAG "
   ]
  },
  {
   "cell_type": "code",
   "execution_count": 73,
   "id": "b7231921-ba3b-4ecb-b33f-a77585112db6",
   "metadata": {},
   "outputs": [
    {
     "data": {
      "text/plain": [
       "Prediction(\n",
       "    context=['=== History ===\\nNeuralink was founded in 2016 by Elon Musk and a founding team of seven scientists and engineers. The group of initial hires consisted of experts in areas such as neuroscience, biochemistry and robotics. The trademark \"Neuralink\" was purchased from its previous owners in January 2017.In April 2017, Neuralink announced that it was aiming to make devices to treat serious brain diseases in the short-term, with the eventual goal of human enhancement, sometimes called transhumanism. Musk had said his interest in the idea partly stemmed from the science fiction concept of \"neural lace\" in the fictional universe in The Culture, a series of 10 novels by Iain M. Banks.Musk defined the neural lace as a \"digital layer above the cortex\" that would not necessarily imply extensive surgical insertion but ideally an implant through a vein or artery. He said the long-term goal is to achieve \"symbiosis with artificial intelligence\", which he perceives as an existential threat to humanity if it goes unchecked. He believes the device will be \"something analogous to a video game, like a saved game situation, where you are able to resume and upload your last state\" and \"address brain injuries or spinal injuries and make up for whatever lost capacity somebody has with a chip.\"As of 2020, Neuralink was headquartered in San Francisco\\'s Mission District, sharing the Pioneer building with OpenAI, another company co-founded by Musk.\\nAs of 2022, Neuralink\\'s headquarters were in Fremont, California. Jared Birchall, the head of Musk\\'s family office, was listed as CEO, CFO and president of Neuralink in 2018. As of September 2018, Musk was the majority owner of Neuralink but did not hold an executive position. By August 2020, only three of the eight founding scientists remained at the company, according to an article by Stat News which reported that Neuralink had seen \"years of internal conflict in which rushed timelines have clashed with the slow and incremental pace of science.\"In April 2021, Neuralink demonstrated a monkey playing the game \"Pong\" using the Neuralink implant. While similar technology has existed since 2002, when a research group first demonstrated a monkey moving a computer cursor with neural signals, scientists acknowledged the engineering progress in making the implant wireless and increasing the number of implanted electrodes. In May 2021, co-founder and president Max Hodak announced that he no longer works with the company. Only two of the eight co-founders remained at the company by January 2022.'],\n",
       "    answer='Biotechnology, neuroscience, and artificial intelligence.'\n",
       ")"
      ]
     },
     "execution_count": 73,
     "metadata": {},
     "output_type": "execute_result"
    }
   ],
   "source": [
    "question_neuralink_industry = 'What industry or industries is Neuralink in?'\n",
    "vanilla_dspy_rag = vanilla_dspy_rag()\n",
    "vanilla_dspy_rag_q1 = vanilla_dspy_rag.forward(question_neuralink_industry)\n",
    "vanilla_dspy_rag_q1"
   ]
  },
  {
   "cell_type": "code",
   "execution_count": 76,
   "id": "42d7a6e8-1e6d-4017-a1fc-5c7dced2afb1",
   "metadata": {},
   "outputs": [
    {
     "name": "stdout",
     "output_type": "stream",
     "text": [
      "\n",
      "\n",
      "\n",
      "\n",
      "Answer questions with short factoid answers.\n",
      "\n",
      "---\n",
      "\n",
      "Follow the following format.\n",
      "\n",
      "Context: may contain relevant facts\n",
      "\n",
      "Question: ${question}\n",
      "\n",
      "Reasoning: Let's think step by step in order to ${produce the answer}. We ...\n",
      "\n",
      "Answer: often between 1 and 5 words\n",
      "\n",
      "---\n",
      "\n",
      "Context:\n",
      "«=== History ===\n",
      "Neuralink was founded in 2016 by Elon Musk and a founding team of seven scientists and engineers. The group of initial hires consisted of experts in areas such as neuroscience, biochemistry and robotics. The trademark \"Neuralink\" was purchased from its previous owners in January 2017.In April 2017, Neuralink announced that it was aiming to make devices to treat serious brain diseases in the short-term, with the eventual goal of human enhancement, sometimes called transhumanism. Musk had said his interest in the idea partly stemmed from the science fiction concept of \"neural lace\" in the fictional universe in The Culture, a series of 10 novels by Iain M. Banks.Musk defined the neural lace as a \"digital layer above the cortex\" that would not necessarily imply extensive surgical insertion but ideally an implant through a vein or artery. He said the long-term goal is to achieve \"symbiosis with artificial intelligence\", which he perceives as an existential threat to humanity if it goes unchecked. He believes the device will be \"something analogous to a video game, like a saved game situation, where you are able to resume and upload your last state\" and \"address brain injuries or spinal injuries and make up for whatever lost capacity somebody has with a chip.\"As of 2020, Neuralink was headquartered in San Francisco's Mission District, sharing the Pioneer building with OpenAI, another company co-founded by Musk.\n",
      "As of 2022, Neuralink's headquarters were in Fremont, California. Jared Birchall, the head of Musk's family office, was listed as CEO, CFO and president of Neuralink in 2018. As of September 2018, Musk was the majority owner of Neuralink but did not hold an executive position. By August 2020, only three of the eight founding scientists remained at the company, according to an article by Stat News which reported that Neuralink had seen \"years of internal conflict in which rushed timelines have clashed with the slow and incremental pace of science.\"In April 2021, Neuralink demonstrated a monkey playing the game \"Pong\" using the Neuralink implant. While similar technology has existed since 2002, when a research group first demonstrated a monkey moving a computer cursor with neural signals, scientists acknowledged the engineering progress in making the implant wireless and increasing the number of implanted electrodes. In May 2021, co-founder and president Max Hodak announced that he no longer works with the company. Only two of the eight co-founders remained at the company by January 2022.»\n",
      "\n",
      "Question: What industry or industries is Neuralink in?\n",
      "\n",
      "Reasoning: Let's think step by step in order to\u001b[32m determine what industry Neuralink is in. We know that Neuralink was founded by a team of scientists and engineers, and that their goal is to create devices for brain diseases and human enhancement. We also know that they share a building with another company co-founded by Elon Musk.\n",
      "\n",
      "Answer: Biotechnology, neuroscience, and artificial intelligence.\u001b[0m\n",
      "\n",
      "\n",
      "\n"
     ]
    }
   ],
   "source": [
    "# We can check and see what's happening under the hood of the Vanilla DSPy RAG pipeline\n",
    "vanilla_dspy_rag_lm.inspect_history()"
   ]
  },
  {
   "cell_type": "markdown",
   "id": "40f8fc5a-247d-47d3-a468-84a6d0879710",
   "metadata": {},
   "source": [
    "# Fact-check with Our Knowledge Graph"
   ]
  },
  {
   "cell_type": "code",
   "execution_count": 17,
   "id": "3a4ae2cd-c3ed-4a1d-a824-742cac648a66",
   "metadata": {},
   "outputs": [
    {
     "name": "stdout",
     "output_type": "stream",
     "text": [
      "\n",
      "\n",
      "\u001b[1m> Entering new GraphCypherQAChain chain...\u001b[0m\n",
      "Generated Cypher:\n",
      "\u001b[32;1m\u001b[1;3mcypher\n",
      "MATCH (o:Organization {name: \"Neuralink\"})-[:INDUSTRY]->(s:Skill)\n",
      "RETURN s.name\n",
      "\u001b[0m\n",
      "Full Context:\n",
      "\u001b[32;1m\u001b[1;3m[{'s.name': 'computer interfaces'}, {'s.name': 'neurotechnology'}]\u001b[0m\n",
      "\n",
      "\u001b[1m> Finished chain.\u001b[0m\n"
     ]
    }
   ],
   "source": [
    "# Reminder that our question is: question_neuralink_industry = 'What industry or industries is Neuralink in?'\n",
    "kg_context = initial_context_from_knowledge_graph.run(question_neuralink_industry)"
   ]
  },
  {
   "cell_type": "code",
   "execution_count": 18,
   "id": "b00f9a36-07e3-47db-a8b8-a7a1946db021",
   "metadata": {},
   "outputs": [
    {
     "data": {
      "text/plain": [
       "'Neuralink is in the computer interfaces and neurotechnology industries.'"
      ]
     },
     "execution_count": 18,
     "metadata": {},
     "output_type": "execute_result"
    }
   ],
   "source": [
    "kg_context"
   ]
  },
  {
   "cell_type": "markdown",
   "id": "e1eba594-b5dc-4c68-9544-2be324085243",
   "metadata": {},
   "source": [
    "# B. DSPy RAG with Knowledge Graphs"
   ]
  },
  {
   "cell_type": "code",
   "execution_count": 110,
   "id": "785f272c-a664-4beb-8f17-7ddcbbdec436",
   "metadata": {},
   "outputs": [],
   "source": [
    "dspy_w_kg = KGEnrichedQueryModule(temperature=0)"
   ]
  },
  {
   "cell_type": "code",
   "execution_count": 73,
   "id": "65fbb7ac-aa2d-4d06-86a2-125afbfcb0b6",
   "metadata": {},
   "outputs": [
    {
     "data": {
      "text/plain": [
       "'Neuralink is in the computer interfaces and neurotechnology industries.'"
      ]
     },
     "execution_count": 73,
     "metadata": {},
     "output_type": "execute_result"
    }
   ],
   "source": [
    "kg_context"
   ]
  },
  {
   "cell_type": "code",
   "execution_count": 75,
   "id": "d6db12e0-5c47-4981-8967-67a2796d4a05",
   "metadata": {},
   "outputs": [
    {
     "name": "stdout",
     "output_type": "stream",
     "text": [
      "can confidently say that Neuralink is in the technology industry, specifically in the field of neurotechnology and brain-computer interfaces.\n"
     ]
    }
   ],
   "source": [
    "answer = dspy_w_kg.forward(question=question_neuralink_industry, kg_context = kg_context)\n",
    "print(answer)"
   ]
  },
  {
   "cell_type": "code",
   "execution_count": 79,
   "id": "ca0b345d-20ea-4ed1-94a0-57038888c824",
   "metadata": {},
   "outputs": [
    {
     "name": "stdout",
     "output_type": "stream",
     "text": [
      "\n",
      "\n",
      "\n",
      "\n",
      "Consolidates and summarizes information from enriched queries and passages.\n",
      "\n",
      "---\n",
      "\n",
      "Follow the following format.\n",
      "\n",
      "Query: ${query}\n",
      "\n",
      "Passages: Passages retrieved based on the enriched query\n",
      "\n",
      "Reasoning: Let's think step by step in order to ${produce the enhanced_context}. We ...\n",
      "\n",
      "Enhanced Context: Context enhanced with KG data\n",
      "\n",
      "---\n",
      "\n",
      "Query: What industry or industries is Neuralink in that are related to computer interfaces and neurotechnology?\n",
      "\n",
      "Passages: «{'long_text': 'Neuralink Corp. is an American neurotechnology company that is developing implantable brain–computer interfaces (BCIs), based in Fremont, California, as of 2024. Founded by Elon Musk and a team of seven scientists and engineers, Neuralink was launched in 2016 and was first publicly reported in March 2017.Since its founding, the company has hired several high-profile neuroscientists from various universities. By July 2019, it had received $158 million in funding (of which $100 million was from Musk) and was employing a staff of 90 employees. At that time, Neuralink announced that it was working on a \"sewing machine-like\" device capable of implanting very thin (4 to 6 μm in width) threads into the brain, and demonstrated a system that reads information from a lab rat via 1,500 electrodes. They had anticipated starting experiments with humans in 2020, but have since moved that projection to 2023. As of May 2023, they have been approved for human trials in the United States.The company has faced criticism for a large amount of euthanization of primates that underwent medical trials. Veterinary records of the monkeys showed a number of complications with electrodes being surgically implanted.\\nOn January 29, 2024, Musk said that Neuralink had successfully implanted a Neuralink device in a human and that the patient was recovering.\\n\\n\\n== Company =='}»\n",
      "\n",
      "Reasoning: Let's think step by step in order to produce the enhanced context. We start by understanding the query, which is asking for the industry or industries that Neuralink is in. We then look at the specific keywords in the query, such as \"computer interfaces\" and \"neurotechnology\". Based on these keywords, we can infer that Neuralink is likely in the technology industry. To further enhance our understanding, we can look at the passages retrieved based on the enriched query. These passages mention that Neuralink is a neurotechnology company that is developing implantable brain-computer interfaces. This confirms our initial inference that Neuralink is in the technology industry. Additionally, the passages mention that Neuralink has received funding and is employing a staff, further solidifying its position in the industry. Finally, we\n",
      "\n",
      "Enhanced Context:\u001b[32m can confidently say that Neuralink is in the technology industry, specifically in the field of neurotechnology and brain-computer interfaces.\u001b[0m\n",
      "\n",
      "\n",
      "\n"
     ]
    }
   ],
   "source": [
    "# We can check and see what's happening under the hood of the DSPy RAG w/ Knowledge Graph pipeline\n",
    "lm.inspect_history()"
   ]
  },
  {
   "cell_type": "markdown",
   "id": "eeb246aa-8ab7-4705-b8b8-249318006038",
   "metadata": {},
   "source": [
    "# Question 2 : List out the companies that Elon Musk co-founded with other founders.\n",
    "# A. Vanilla DSPy RAG "
   ]
  },
  {
   "cell_type": "code",
   "execution_count": 86,
   "id": "da6cc58d-f9ee-476a-bdd9-1749890450ee",
   "metadata": {
    "scrolled": true
   },
   "outputs": [
    {
     "data": {
      "text/plain": [
       "Prediction(\n",
       "    context=['In October 2002, eBay acquired PayPal for $1.5 billion, and that same year, with $100 million of the money he made, Musk founded SpaceX, a spaceflight services company. In 2004, he became an early investor in electric vehicle manufacturer Tesla Motors, Inc. (now Tesla, Inc.). He became its chairman and product architect, assuming the position of CEO in 2008. In 2006, Musk helped create SolarCity, a solar-energy company that was acquired by Tesla in 2016 and became Tesla Energy. In 2013, he proposed a hyperloop high-speed vactrain transportation system. In 2015, he co-founded OpenAI, a nonprofit artificial intelligence research company. The following year, Musk co-founded Neuralink—a neurotechnology company developing brain–computer interfaces—and the Boring Company, a tunnel construction company. In 2022, he acquired Twitter for $44 billion. He subsequently merged the company into newly created X Corp. and rebranded the service as X the following year. In March 2023, he founded xAI, an artificial intelligence company.\\nMusk has expressed views that have made him a polarizing figure. He has been criticized for making unscientific and misleading statements, including COVID-19 misinformation and antisemitic conspiracy theories. His ownership of Twitter has been similarly controversial, being marked by the laying off of a large number of employees, an increase in hate speech and misinformation and disinformation on the website, as well as changes to Twitter Blue verification. In 2018, the U.S. Securities and Exchange Commission (SEC) sued him, alleging that he had falsely announced that he had secured funding for a private takeover of Tesla. To settle the case, Musk stepped down as the chairman of Tesla and paid a $20 million fine.'],\n",
       "    answer='SpaceX, Tesla, SolarCity, OpenAI, Neuralink, Boring Company, xAI'\n",
       ")"
      ]
     },
     "execution_count": 86,
     "metadata": {},
     "output_type": "execute_result"
    }
   ],
   "source": [
    "question_org_elon_cofounded = \"List out the companies that Elon Musk co-founded with other founders.\"\n",
    "vanilla_dspy_rag = vanilla_dspy_rag()\n",
    "vanilla_dspy_rag_q2 = vanilla_dspy_rag.forward(question=question_org_elon_cofounded)\n",
    "vanilla_dspy_rag_q2"
   ]
  },
  {
   "cell_type": "code",
   "execution_count": 88,
   "id": "7e940330-66e8-4af9-a901-5c45560e14cf",
   "metadata": {},
   "outputs": [
    {
     "name": "stdout",
     "output_type": "stream",
     "text": [
      "\n",
      "\n",
      "\n",
      "\n",
      "Answer questions with short factoid answers.\n",
      "\n",
      "---\n",
      "\n",
      "Follow the following format.\n",
      "\n",
      "Context: may contain relevant facts\n",
      "\n",
      "Question: ${question}\n",
      "\n",
      "Reasoning: Let's think step by step in order to ${produce the answer}. We ...\n",
      "\n",
      "Answer: often between 1 and 5 words\n",
      "\n",
      "---\n",
      "\n",
      "Context:\n",
      "«In October 2002, eBay acquired PayPal for $1.5 billion, and that same year, with $100 million of the money he made, Musk founded SpaceX, a spaceflight services company. In 2004, he became an early investor in electric vehicle manufacturer Tesla Motors, Inc. (now Tesla, Inc.). He became its chairman and product architect, assuming the position of CEO in 2008. In 2006, Musk helped create SolarCity, a solar-energy company that was acquired by Tesla in 2016 and became Tesla Energy. In 2013, he proposed a hyperloop high-speed vactrain transportation system. In 2015, he co-founded OpenAI, a nonprofit artificial intelligence research company. The following year, Musk co-founded Neuralink—a neurotechnology company developing brain–computer interfaces—and the Boring Company, a tunnel construction company. In 2022, he acquired Twitter for $44 billion. He subsequently merged the company into newly created X Corp. and rebranded the service as X the following year. In March 2023, he founded xAI, an artificial intelligence company.\n",
      "Musk has expressed views that have made him a polarizing figure. He has been criticized for making unscientific and misleading statements, including COVID-19 misinformation and antisemitic conspiracy theories. His ownership of Twitter has been similarly controversial, being marked by the laying off of a large number of employees, an increase in hate speech and misinformation and disinformation on the website, as well as changes to Twitter Blue verification. In 2018, the U.S. Securities and Exchange Commission (SEC) sued him, alleging that he had falsely announced that he had secured funding for a private takeover of Tesla. To settle the case, Musk stepped down as the chairman of Tesla and paid a $20 million fine.»\n",
      "\n",
      "Question: List out the companies that Elon Musk co-founded with other founders.\n",
      "\n",
      "Reasoning: Let's think step by step in order to\u001b[32m identify the companies that Elon Musk co-founded with other founders. We will look for companies that he founded after 2002, when he acquired PayPal.\n",
      "\n",
      "Answer: SpaceX, Tesla, SolarCity, OpenAI, Neuralink, Boring Company, xAI\u001b[0m\n",
      "\n",
      "\n",
      "\n"
     ]
    }
   ],
   "source": [
    "vanilla_dspy_rag_lm.inspect_history(15)"
   ]
  },
  {
   "cell_type": "markdown",
   "id": "d01a8d37-03be-4e58-a21c-9cd2e26e44db",
   "metadata": {},
   "source": [
    "# Did we just spot hallucination in RAG?"
   ]
  },
  {
   "cell_type": "markdown",
   "id": "14095fee-7c65-47ff-ace9-12735b243d96",
   "metadata": {},
   "source": [
    "This is wrong: \"Elon co-founded SpaceX, Tesla, the Boring Company, xAI\" "
   ]
  },
  {
   "cell_type": "markdown",
   "id": "536079c6-7062-424c-9915-c54c82a00e6b",
   "metadata": {},
   "source": [
    "# B. DSPy RAG with Knowledge Graph"
   ]
  },
  {
   "cell_type": "code",
   "execution_count": 42,
   "id": "a2fbcb1c-4bb9-4b85-859e-2c63825aba23",
   "metadata": {},
   "outputs": [
    {
     "name": "stdout",
     "output_type": "stream",
     "text": [
      "\n",
      "\n",
      "\u001b[1m> Entering new GraphCypherQAChain chain...\u001b[0m\n",
      "Generated Cypher:\n",
      "\u001b[32;1m\u001b[1;3mcypher\n",
      "MATCH (p:Person {name: \"Elon Musk\"})-[:FOUNDED_BY]-(o:Organization)-[:FOUNDED_BY]-(coFounder:Person)\n",
      "WHERE p <> coFounder\n",
      "RETURN o.name AS CompanyName, collect(coFounder.name) AS CoFounders\n",
      "\u001b[0m\n",
      "Full Context:\n",
      "\u001b[32;1m\u001b[1;3m[{'CompanyName': 'SolarCity', 'CoFounders': ['Lyndon Rive']}, {'CompanyName': 'Zip2', 'CoFounders': ['Kimbal Musk']}, {'CompanyName': 'OpenAI', 'CoFounders': ['Wojciech Zaremba', 'Sam Altman', 'Andrej Karpathy', 'Trevor Blackwell', 'Ilya Sutskever']}, {'CompanyName': 'Excession LLC', 'CoFounders': ['Jared Birchall']}]\u001b[0m\n",
      "\n",
      "\u001b[1m> Finished chain.\u001b[0m\n"
     ]
    }
   ],
   "source": [
    "# Reminder that our question is: question_org_elon_cofounded = \"List out the companies that Elon Musk co-founded with other founders.\"\n",
    "kg_context = initial_context_from_knowledge_graph(question_org_elon_cofounded)"
   ]
  },
  {
   "cell_type": "code",
   "execution_count": 43,
   "id": "f84216eb-f307-449a-a773-132dfef59e5f",
   "metadata": {},
   "outputs": [
    {
     "data": {
      "text/plain": [
       "{'query': 'List out the companies that Elon Musk co-founded with other founders.',\n",
       " 'result': \"I don't know the answer.\",\n",
       " 'intermediate_steps': [{'query': 'cypher\\nMATCH (p:Person {name: \"Elon Musk\"})-[:FOUNDED_BY]-(o:Organization)-[:FOUNDED_BY]-(coFounder:Person)\\nWHERE p <> coFounder\\nRETURN o.name AS CompanyName, collect(coFounder.name) AS CoFounders\\n'},\n",
       "  {'context': [{'CompanyName': 'SolarCity', 'CoFounders': ['Lyndon Rive']},\n",
       "    {'CompanyName': 'Zip2', 'CoFounders': ['Kimbal Musk']},\n",
       "    {'CompanyName': 'OpenAI',\n",
       "     'CoFounders': ['Wojciech Zaremba',\n",
       "      'Sam Altman',\n",
       "      'Andrej Karpathy',\n",
       "      'Trevor Blackwell',\n",
       "      'Ilya Sutskever']},\n",
       "    {'CompanyName': 'Excession LLC', 'CoFounders': ['Jared Birchall']}]}]}"
      ]
     },
     "execution_count": 43,
     "metadata": {},
     "output_type": "execute_result"
    }
   ],
   "source": [
    "kg_context"
   ]
  },
  {
   "cell_type": "code",
   "execution_count": 96,
   "id": "3ba778de-5d33-432b-afe7-027e3ab6e5bd",
   "metadata": {},
   "outputs": [
    {
     "data": {
      "text/plain": [
       "\"These are the companies that Elon has co-founded with other people:[{'CompanyName': 'SolarCity', 'CoFounders': ['Lyndon Rive']}, {'CompanyName': 'Zip2', 'CoFounders': ['Kimbal Musk']}, {'CompanyName': 'OpenAI', 'CoFounders': ['Wojciech Zaremba', 'Sam Altman', 'Andrej Karpathy', 'Trevor Blackwell', 'Ilya Sutskever']}, {'CompanyName': 'Excession LLC', 'CoFounders': ['Jared Birchall']}]\""
      ]
     },
     "execution_count": 96,
     "metadata": {},
     "output_type": "execute_result"
    }
   ],
   "source": [
    "# turn our dictionary-type kg data into string-type to fit in the DSPy pipeline\n",
    "kg_context = \"These are the companies that Elon has co-founded with other people:\" + str(kg_data['intermediate_steps'][1]['context'])\n",
    "kg_context"
   ]
  },
  {
   "cell_type": "code",
   "execution_count": 97,
   "id": "a94f2a2f-e9ad-42b3-a03f-a5ad288ac32d",
   "metadata": {},
   "outputs": [
    {
     "name": "stdout",
     "output_type": "stream",
     "text": [
      "According to KG data, Elon Musk is listed as a co-founder of several companies, including SpaceX, Tesla, X Corp., the Boring Company, xAI, Neuralink, OpenAI, and the\n"
     ]
    }
   ],
   "source": [
    "dspy_w_kg = KGEnrichedQueryModule(temperature=0)\n",
    "answer = dspy_w_kg.forward(question=question_org_elon_cofounded, kg_context = kg_context)\n",
    "print(answer)"
   ]
  },
  {
   "cell_type": "code",
   "execution_count": 103,
   "id": "9bee5167-6723-4f6f-a8b6-f215cb56fa31",
   "metadata": {},
   "outputs": [
    {
     "name": "stdout",
     "output_type": "stream",
     "text": [
      "\n",
      "\n",
      "\n",
      "\n",
      "Refines and enriches questions using knowledge graph context.\n",
      "\n",
      "---\n",
      "\n",
      "Follow the following format.\n",
      "\n",
      "Question: ${question}\n",
      "\n",
      "Kg Context: Knowledge graph metadata\n",
      "\n",
      "Reasoning: Let's think step by step in order to ${produce the enriched_query}. We ...\n",
      "\n",
      "Enriched Query: Query enriched with KG context\n",
      "\n",
      "---\n",
      "\n",
      "Question: List out the companies that Elon Musk co-founded with other founders.\n",
      "\n",
      "Kg Context: These are the companies that Elon has co-founded with other people:[{'CompanyName': 'SolarCity', 'CoFounders': ['Lyndon Rive']}, {'CompanyName': 'Zip2', 'CoFounders': ['Kimbal Musk']}, {'CompanyName': 'OpenAI', 'CoFounders': ['Wojciech Zaremba', 'Sam Altman', 'Andrej Karpathy', 'Trevor Blackwell', 'Ilya Sutskever']}, {'CompanyName': 'Excession LLC', 'CoFounders': ['Jared Birchall']}]\n",
      "\n",
      "Reasoning: Let's think step by step in order to\u001b[32m find out the companies that Elon Musk co-founded with other founders. First, we need to identify the companies that Elon has co-founded. Then, we need to look at the list of co-founders for each company and check if Elon is one of them. Finally, we can compile a list of companies where Elon is listed as a co-founder along with other people.\n",
      "\n",
      "Enriched Query: List out the companies where Elon Musk is listed as a co-founder along with other people.\u001b[0m\n",
      "\n",
      "\n",
      "\n",
      "\n",
      "\n",
      "\n",
      "\n",
      "Consolidates and summarizes information from enriched queries and passages.\n",
      "\n",
      "---\n",
      "\n",
      "Follow the following format.\n",
      "\n",
      "Query: ${query}\n",
      "\n",
      "Passages: Passages retrieved based on the enriched query\n",
      "\n",
      "Reasoning: Let's think step by step in order to ${produce the enhanced_context}. We ...\n",
      "\n",
      "Enhanced Context: Context enhanced with KG data\n",
      "\n",
      "---\n",
      "\n",
      "Query: List out the companies where Elon Musk is listed as a co-founder along with other people.\n",
      "\n",
      "Passages:\n",
      "[1] «{'long_text': \"Elon Reeve Musk ( EE-lon; born June 28, 1971) is a businessman and investor. He is the founder, chairman, CEO, and CTO of SpaceX; angel investor, CEO, product architect, and former chairman of Tesla, Inc.; owner, executive chairman, and CTO of X Corp.; founder of the Boring Company and xAI; co-founder of Neuralink and OpenAI; and president of the Musk Foundation. He is one of the wealthiest people in the world, with an estimated net worth of US$190 billion as of March 2024, according to the Bloomberg Billionaires Index, and $195 billion according to Forbes, primarily from his ownership stakes in Tesla and SpaceX.A member of the wealthy South African Musk family, Elon was born in Pretoria and briefly attended the University of Pretoria before immigrating to Canada at age 18, acquiring citizenship through his Canadian-born mother. Two years later, he matriculated at Queen's University at Kingston in Canada. Musk later transferred to the University of Pennsylvania, and received bachelor's degrees in economics and physics. He moved to California in 1995 to attend Stanford University, but dropped out after two days and, with his brother Kimbal, co-founded online city guide software company Zip2. The startup was acquired by Compaq for $307 million in 1999, and that same year Musk co-founded X.com, a direct bank. X.com merged with Confinity in 2000 to form PayPal.\"}»\n",
      "[2] «{'long_text': \"Elon Reeve Musk ( EE-lon; born June 28, 1971) is a businessman and investor. He is the founder, chairman, CEO, and CTO of SpaceX; angel investor, CEO, product architect, and former chairman of Tesla, Inc.; owner, executive chairman, and CTO of X Corp.; founder of the Boring Company and xAI; co-founder of Neuralink and OpenAI; and president of the Musk Foundation. He is one of the wealthiest people in the world, with an estimated net worth of US$190 billion as of March 2024, according to the Bloomberg Billionaires Index, and $195 billion according to Forbes, primarily from his ownership stakes in Tesla and SpaceX.A member of the wealthy South African Musk family, Elon was born in Pretoria and briefly attended the University of Pretoria before immigrating to Canada at age 18, acquiring citizenship through his Canadian-born mother. Two years later, he matriculated at Queen's University at Kingston in Canada. Musk later transferred to the University of Pennsylvania, and received bachelor's degrees in economics and physics. He moved to California in 1995 to attend Stanford University, but dropped out after two days and, with his brother Kimbal, co-founded online city guide software company Zip2. The startup was acquired by Compaq for $307 million in 1999, and that same year Musk co-founded X.com, a direct bank. X.com merged with Confinity in 2000 to form PayPal.\"}»\n",
      "[3] «{'long_text': \"Elon Reeve Musk ( EE-lon; born June 28, 1971) is a businessman and investor. He is the founder, chairman, CEO, and CTO of SpaceX; angel investor, CEO, product architect, and former chairman of Tesla, Inc.; owner, executive chairman, and CTO of X Corp.; founder of the Boring Company and xAI; co-founder of Neuralink and OpenAI; and president of the Musk Foundation. He is one of the wealthiest people in the world, with an estimated net worth of US$190 billion as of March 2024, according to the Bloomberg Billionaires Index, and $195 billion according to Forbes, primarily from his ownership stakes in Tesla and SpaceX.A member of the wealthy South African Musk family, Elon was born in Pretoria and briefly attended the University of Pretoria before immigrating to Canada at age 18, acquiring citizenship through his Canadian-born mother. Two years later, he matriculated at Queen's University at Kingston in Canada. Musk later transferred to the University of Pennsylvania, and received bachelor's degrees in economics and physics. He moved to California in 1995 to attend Stanford University, but dropped out after two days and, with his brother Kimbal, co-founded online city guide software company Zip2. The startup was acquired by Compaq for $307 million in 1999, and that same year Musk co-founded X.com, a direct bank. X.com merged with Confinity in 2000 to form PayPal.\"}»\n",
      "\n",
      "Reasoning: Let's think step by step in order to\u001b[32m produce the enhanced_context. We first need to identify the companies where Elon Musk is listed as a co-founder. To do this, we can use KG data to find information about Elon Musk's involvement in various companies. We can then cross-reference this information with a list of companies where he is listed as a co-founder. Once we have this list, we can use it to filter out any irrelevant information and focus on the companies that we are interested in. This will help us to produce a more accurate and relevant enhanced context.\n",
      "\n",
      "Enhanced Context: According to KG data, Elon Musk is listed as a co-founder of several companies, including SpaceX, Tesla, X Corp., the Boring Company, xAI, Neuralink, OpenAI, and the\u001b[0m\n",
      "\n",
      "\n",
      "\n"
     ]
    }
   ],
   "source": [
    "lm.inspect_history(7)"
   ]
  }
 ],
 "metadata": {
  "kernelspec": {
   "display_name": "Python 3 (ipykernel)",
   "language": "python",
   "name": "python3"
  },
  "language_info": {
   "codemirror_mode": {
    "name": "ipython",
    "version": 3
   },
   "file_extension": ".py",
   "mimetype": "text/x-python",
   "name": "python",
   "nbconvert_exporter": "python",
   "pygments_lexer": "ipython3",
   "version": "3.10.12"
  }
 },
 "nbformat": 4,
 "nbformat_minor": 5
}
